{
 "cells": [
  {
   "cell_type": "markdown",
   "metadata": {},
   "source": [
    "\n",
    "### Objective\n",
    "### HYPOTHESIS TESTING: SIGNIFICANCE THRESHOLDS\n",
    "### Heart Disease Research Part I\n",
    "In this project, you’ll investigate some data from a sample patients who were evaluated for heart disease at the Cleveland Clinic Foundation. The data was downloaded from the UCI Machine Learning Repository and then cleaned for analysis. The principal investigators responsible for data collection were:\n",
    "1.\tHungarian Institute of Cardiology. Budapest: Andras Janosi, M.D.\n",
    "2.\tUniversity Hospital, Zurich, Switzerland: William Steinbrunn, M.D.\n",
    "3.\tUniversity Hospital, Basel, Switzerland: Matthias Pfisterer, M.D.\n",
    "4.\tV.A. Medical Center, Long Beach and Cleveland Clinic Foundation: Robert Detrano, M.D., Ph.D.\n",
    "\n",
    "Note that a solution.py file is loaded for you in the workspace, which contains solution code for this project. We highly recommend that you complete the project on your own without checking the solution, but feel free to take a look if you get stuck or want to check your answers when you’re done!\n",
    "\n",
    "Tasks: 10/10 complete. Mark the tasks as complete by checking them off\n",
    "\n",
    "### Cholesterol Analysis\n",
    "<br>1. The full dataset has been loaded for you as `heart`, then split into two subsets:  \n",
    "o\t`yes_hd`, which contains data for patients with heart disease  \n",
    "o\t`no_hd`, which contains data for patients without heart disease  <br>\n",
    "<br>For this project, we’ll investigate the following variables:  \n",
    "o\t`chol`: serum cholestorol in mg/dl  \n",
    "o\t`fbs`: An indicator for whether fasting blood sugar is greater than 120 mg/dl (1 = true; 0 = false)  \n",
    "\n",
    "To start, we’ll investigate cholesterol levels for patients with heart disease. Use the dataset yes_hd to save cholesterol levels for patients with heart disease as a variable named chol_hd.\n",
    "\n",
    "<br>2. In general, total cholesterol over 240 mg/dl is considered “high” (and therefore unhealthy). Calculate the mean cholesterol level for patients who were diagnosed with heart disease and print it out. Is it higher than 240 mg/dl?\n",
    "\n",
    "<br>3. Do people with heart disease have high cholesterol levels (greater than or equal to 240 mg/dl) on average? Import the function from `scipy.stats` that you can use to test the following null and alternative hypotheses:\n",
    "\n",
    "o\tNull: People with heart disease have an average cholesterol level equal to 240 mg/dl  \n",
    "o\tAlternative: People with heart disease have an average cholesterol level that is greater than 240 mg/dl\n",
    "\n",
    "Note: Unfortunately, the `scipy.stats` function we’ve been using does not (at the time of writing) have an `alternative` parameter to change the alternative hypothesis for this test. Therefore, you’ll have to run a two-sided test. However, since you calculated earlier that the average cholesterol level for heart disease patients is greater than 240 mg/dl, you can calculate the p-value for the one-sided test indicated above simply by dividing the two-sided p-value in half.\n",
    "\n",
    "<br>4. Run the hypothesis test indicated in task 3 and print out the p-value. Can you conclude that heart disease patients have an average cholesterol level significantly greater than 240 mg/dl? Use a significance threshold of 0.05.\n",
    "\n",
    "<br>5. Repeat steps 1-4 in order to run the same hypothesis test, but for patients in the sample who were not diagnosed with heart disease. Do patients without heart disease have average cholesterol levels significantly above 240 mg/dl?\n",
    "\n",
    "### Fasting Blood Sugar Analysis\n",
    "<br>6. Let’s now return to the full dataset (saved as heart). How many patients are there in this dataset? Save the number of patients as num_patients and print it out.\n",
    "\n",
    "<br>7. Remember that the `fbs` column of this dataset indicates whether or not a patient’s fasting blood sugar was greater than 120 mg/dl (1 means that their fasting blood sugar was greater than 120 mg/dl; 0 means it was less than or equal to 120 mg/dl).  \n",
    "Calculate the number of patients with fasting blood sugar greater than 120. Save this number as `num_highfbs_patients` and print it out.\n",
    "\n",
    "<br>8. Sometimes, part of an analysis will involve comparing a sample to known population values to see if the sample appears to be representative of the general population.  \n",
    "By some estimates, about 8% of the U.S. population had diabetes (diagnosed or undiagnosed) in 1988 when this data was collected. While there are multiple tests that contribute to a diabetes diagnosis, fasting blood sugar levels greater than 120 mg/dl can be indicative of diabetes (or at least, pre-diabetes). If this sample were representative of the population, approximately how many people would you expect to have diabetes? Calculate and print out this number.  \n",
    "Is this value similar to the number of patients with a resting blood sugar above 120 mg/dl — or different?\n",
    "\n",
    "<br>9. Does this sample come from a population in which the rate of fbs > 120 mg/dl is equal to 8%? Import the function from `scipy.stats` that you can use to test the following null and alternative hypotheses:  \n",
    "o\tNull: This sample was drawn from a population where 8% of people have fasting blood sugar > 120 mg/dl  \n",
    "o\tAlternative: This sample was drawn from a population where more than 8% of people have fasting blood sugar > 120 mg/dl\n",
    "\n",
    "\n",
    "<br>10. Run the hypothesis test indicated in task 9 and print out the p-value. Using a significance threshold of 0.05, can you conclude that this sample was drawn from a population where the rate of fasting blood sugar > 120 mg/dl is significantly greater than 8%?\n",
    "\n",
    "\n"
   ]
  },
  {
   "cell_type": "code",
   "execution_count": 3,
   "metadata": {},
   "outputs": [],
   "source": [
    "import pandas as pd\n",
    "import numpy as np"
   ]
  },
  {
   "cell_type": "code",
   "execution_count": 4,
   "metadata": {},
   "outputs": [],
   "source": [
    "# Load data\n",
    "heart = pd.read_csv('heart_disease.csv')\n",
    "# Creating two separate dataframes\n",
    "yes_hd = heart[heart.heart_disease == 'presence']\n",
    "no_hd = heart[heart.heart_disease == 'absence']"
   ]
  },
  {
   "cell_type": "code",
   "execution_count": 5,
   "metadata": {},
   "outputs": [
    {
     "name": "stdout",
     "output_type": "stream",
     "text": [
      "    age   sex  trestbps   chol              cp  exang  fbs  thalach   \n",
      "0  63.0  male     145.0  233.0  typical angina    0.0  1.0    150.0  \\\n",
      "1  67.0  male     160.0  286.0    asymptomatic    1.0  0.0    108.0   \n",
      "2  67.0  male     120.0  229.0    asymptomatic    1.0  0.0    129.0   \n",
      "\n",
      "  heart_disease  \n",
      "0       absence  \n",
      "1      presence  \n",
      "2      presence  \n"
     ]
    }
   ],
   "source": [
    "# Check the df \"heart\"\n",
    "print(heart.head(3))"
   ]
  },
  {
   "cell_type": "code",
   "execution_count": 6,
   "metadata": {},
   "outputs": [],
   "source": [
    "# Removing the maximum number of columns displayed with the follwing lines does not work. \n",
    "# In my editor \"None\" needs to be replaced by \"0\".\n",
    "# pd.get_option(\"display.max_columns\")\n",
    "# pd.set_option(\"display.max_columns\", None)"
   ]
  },
  {
   "cell_type": "code",
   "execution_count": 7,
   "metadata": {},
   "outputs": [
    {
     "name": "stdout",
     "output_type": "stream",
     "text": [
      "    age     sex  trestbps   chol  ... exang  fbs  thalach  heart_disease\n",
      "1  67.0    male     160.0  286.0  ...   1.0  0.0    108.0       presence\n",
      "2  67.0    male     120.0  229.0  ...   1.0  0.0    129.0       presence\n",
      "6  62.0  female     140.0  268.0  ...   0.0  0.0    160.0       presence\n",
      "\n",
      "[3 rows x 9 columns]\n"
     ]
    }
   ],
   "source": [
    "# This code temporarily removes the max number of columns displayed.\n",
    "with pd.option_context('display.max_columns', 0):\n",
    "    print(yes_hd.head(3))"
   ]
  },
  {
   "cell_type": "code",
   "execution_count": 8,
   "metadata": {},
   "outputs": [
    {
     "name": "stdout",
     "output_type": "stream",
     "text": [
      "    age     sex  trestbps   chol  ... exang  fbs  thalach  heart_disease\n",
      "0  63.0    male     145.0  233.0  ...   0.0  1.0    150.0        absence\n",
      "3  37.0    male     130.0  250.0  ...   0.0  0.0    187.0        absence\n",
      "4  41.0  female     130.0  204.0  ...   0.0  0.0    172.0        absence\n",
      "\n",
      "[3 rows x 9 columns]\n"
     ]
    }
   ],
   "source": [
    "with pd.option_context('display.max_columns', 0):\n",
    "    print(no_hd.head(3))"
   ]
  },
  {
   "cell_type": "code",
   "execution_count": 22,
   "metadata": {},
   "outputs": [
    {
     "name": "stdout",
     "output_type": "stream",
     "text": [
      "    age     sex  trestbps   chol  ... exang  fbs  thalach  heart_disease\n",
      "1  67.0    male     160.0  286.0  ...   1.0  0.0    108.0       presence\n",
      "2  67.0    male     120.0  229.0  ...   1.0  0.0    129.0       presence\n",
      "6  62.0  female     140.0  268.0  ...   0.0  0.0    160.0       presence\n",
      "8  63.0    male     130.0  254.0  ...   0.0  0.0    147.0       presence\n",
      "9  53.0    male     140.0  203.0  ...   1.0  1.0    155.0       presence\n",
      "\n",
      "[5 rows x 9 columns]\n",
      "Index(['age', 'sex', 'trestbps', 'chol', 'cp', 'exang', 'fbs', 'thalach', 'heart_disease'], dtype='object')\n"
     ]
    }
   ],
   "source": [
    "# Task 1\n",
    "with pd.option_context('display.max_columns', 0): print(yes_hd.head())\n",
    "with pd.option_context('display.width', 1000): print(yes_hd.columns)"
   ]
  },
  {
   "cell_type": "code",
   "execution_count": 29,
   "metadata": {},
   "outputs": [
    {
     "name": "stdout",
     "output_type": "stream",
     "text": [
      "251.47\n",
      "The average cholestrol level for the chol_hd column is 251.47.\n"
     ]
    }
   ],
   "source": [
    "# Task 2\n",
    "chol_hd = yes_hd.chol\n",
    "print(round(chol_hd.mean(),2))\n",
    "# The \"comma\" in print statement adds an unwanted space. \n",
    "# print(\"The average cholestrol level for the chol_hd column is \",round(chol_hd.mean(),2),\".\")\n",
    "# Output: The average cholestrol level for the chol_hd column is  251.47 .\n",
    "# Use string concatenation instead.\n",
    "print(\"The average cholestrol level for the chol_hd column is \" + str(round(chol_hd.mean(),2)) + \".\")"
   ]
  },
  {
   "cell_type": "code",
   "execution_count": 26,
   "metadata": {},
   "outputs": [
    {
     "name": "stdout",
     "output_type": "stream",
     "text": [
      "p-value = 0.007082206781031141\n",
      "tstat = 2.7337803003099808\n",
      "People with heart disease do have high cholesterol levels (greater than or equal to 240 mg/dl) on average.\n"
     ]
    }
   ],
   "source": [
    "# Task 3\n",
    "# Before going into detail: This question is already answered in Task 2. The mean of chol_hd of 251.47 \"is greater than\" 240 mg/dl, \n",
    "# which means the answer is yes, people with heart disease \"do have\" high colestrol levels (greater than or equal to 240 mg/dl).\n",
    "\n",
    "\n",
    "# Codecademy's Comment: \n",
    "# Note: Unfortunately, the `scipy.stats` function we’ve been using does not (at the time of writing) have \n",
    "# an `alternative` parameter to change the alternative hypothesis for this test. Therefore, you’ll have to run a two-sided test. \n",
    "# However, since you calculated earlier that the average cholesterol level for heart disease patients is greater than 240 mg/dl, \n",
    "# you can calculate the p-value for the one-sided test indicated above simply by dividing the two-sided p-value in half.\n",
    "\n",
    "# Mark:\n",
    "# I disagree with Codecademy's comment. \n",
    "# The 2-sided t-test ttest_1samp checks whether the sample mean is equal to the expected mean \n",
    "# (assumed population mean) and returns a two-tailed p-value (\"p-val/2\" below or above and \"1 - p-val/2\" below or above \n",
    "# the expected mean, depending on how the alternative hypothesis is worded).\n",
    "# Null hypothesis: sample mean is equal to expected mean. (Indicated by p-val>0.05)\n",
    "# Alternative hypothesis: sample mean is greater than expected mean. \n",
    "# If p-val<=0.05, reject null hypothesis, i.e., the sample mean is not equal to the expected value. However, we still \n",
    "# would not know whether it is greater or smaller. \n",
    "\n",
    "# tstat, pval = ttest_1samp(sample_distribution, expected_mean)\n",
    "from scipy.stats import ttest_1samp\n",
    "tstat, pval = ttest_1samp(chol_hd, 240)\n",
    "print(\"p-value = \" + str(pval))    # Output: p-value = 0.007082206781031141\n",
    "# The likelyhood that sample mean is equal to 240 is 0.7%; less than 5%; so, reject null hypothesis. \n",
    "\n",
    "# How do we know whether sample mean is greater or smaller than 240?\n",
    "# Look at test statistics (t-values); more precisely, the distribution on t-values. If chol_hd == 240 then tstat=0; \n",
    "# if chol_hd > 240 then tstat>0; if chol_hd < 240 then tstat<0 . \n",
    "print(\"tstat = \" + str(tstat))    # Output: tstat = 2.7337803003099808\n",
    "# By itself, a t-value of 2.73 does not tell us anything. T-values are not in the units of the original data.\n",
    "# Since tstat is positive, our alternative hypothesis is true. The likelyhood of sample values being greater than 240 is \n",
    "# \"1 - p-val/2\": 1 - 0.00708/2 = 0.99646.\n",
    "\n",
    "print(\"People with heart disease do have high cholesterol levels (greater than or equal to 240 mg/dl) on average.\")"
   ]
  },
  {
   "cell_type": "code",
   "execution_count": 36,
   "metadata": {},
   "outputs": [
    {
     "name": "stdout",
     "output_type": "stream",
     "text": [
      "Heart disease patients have average cholestrol levels significantly higher than 240 mg/dl.\n"
     ]
    }
   ],
   "source": [
    "# Task 4\n",
    "\n",
    "# Significance threshold for two-sided test is 0.05. \n",
    "# Two-tailed p-value was calculated as 0.0070822. \n",
    "# Dividing it by two means running a one-sided test (people higher than 240 mg/dl).\n",
    "# p-val_one-sided = pval/2 = 0.0035. The likelyhood of people having cholestrol levels less than 240 mg/dl is 0.35%.\n",
    "print(\"Heart disease patients have average cholestrol levels significantly higher than 240 mg/dl.\")"
   ]
  },
  {
   "cell_type": "code",
   "execution_count": 47,
   "metadata": {},
   "outputs": [
    {
     "name": "stdout",
     "output_type": "stream",
     "text": [
      "The average cholestrol level for the chol_no_hd column is 242.64.\n",
      "p-value = 0.5279424046444101\n",
      "No heart disease patients (no_hd = heart[heart.heart_disease == 'absence'])\n",
      "      have average cholestrol levels \"significantly\" lower than 240 mg/dl.\n"
     ]
    }
   ],
   "source": [
    "# Task 5\n",
    "# People who were not diagnosed with heart disease.\n",
    "\n",
    "chol_no_hd = no_hd.chol\n",
    "#print(round(chol_no_hdno.mean(),2))\n",
    "print(\"The average cholestrol level for the chol_no_hd column is \" + str(round(chol_no_hd.mean(),2)) + \".\")\n",
    "\n",
    "# tstat, pval = ttest_1samp(sample_distribution, expected_mean)\n",
    "from scipy.stats import ttest_1samp\n",
    "tstat, pval = ttest_1samp(chol_no_hd, 240)\n",
    "print(\"p-value = \" + str(pval))    # Output: p-value = 0.527942\n",
    "# The likelyhood that sample mean is equal to 240 is 5.28%; more than 5%; so, DO NOT reject null hypothesis. \n",
    "# Divide p-val by two to obtain one-sided test result.\n",
    "# p-val_one-sided = pval/2 = 0.26. The likelyhood of people having cholestrol levels more than 240 mg/dl is 2.6%.\n",
    "print(\"\"\"No heart disease patients (no_hd = heart[heart.heart_disease == 'absence'])\n",
    "      have average cholestrol levels \\\"significantly\\\" lower than 240 mg/dl.\"\"\")"
   ]
  },
  {
   "cell_type": "code",
   "execution_count": 50,
   "metadata": {},
   "outputs": [
    {
     "name": "stdout",
     "output_type": "stream",
     "text": [
      "There are 303 patients in this  dataset.\n"
     ]
    }
   ],
   "source": [
    "# Task 6\n",
    "num_patients = len(heart)\n",
    "print(\"There are \" + str(num_patients) + \" patients in this  dataset.\")"
   ]
  },
  {
   "cell_type": "code",
   "execution_count": 54,
   "metadata": {},
   "outputs": [
    {
     "name": "stdout",
     "output_type": "stream",
     "text": [
      "The number of patients with high fasting blood sugar is 45.\n"
     ]
    }
   ],
   "source": [
    "# Task 7\n",
    "# Ordinarily, one would count the values in that column. Let's try.\n",
    "# num_highfbs_patients = heart.fbs.value_counts()\n",
    "# print(num_highfbs_patients)\n",
    "# 45 patients.\n",
    "# This gives out a matrix with counts for 0 and 1. \n",
    "# What we need is the count for 1. Since the column consists of \n",
    "# 0s and 1s, use sum() to get the count of 1s.\n",
    "num_highfbs_patients = np.sum(heart.fbs)\n",
    "print(\"The number of patients with high fasting blood sugar is \" + str(int(num_highfbs_patients)) + \".\")"
   ]
  },
  {
   "cell_type": "code",
   "execution_count": 55,
   "metadata": {},
   "outputs": [],
   "source": [
    "# Task 8\n",
    "# Sample has 303 patients. 8% means 24 patients should have diabetes.\n",
    "# Task 7 revealed 45 patients with fasting blood sugar levels > 120.\n",
    "# (45/303)=14.85% of the sample."
   ]
  },
  {
   "cell_type": "code",
   "execution_count": 62,
   "metadata": {},
   "outputs": [
    {
     "name": "stdout",
     "output_type": "stream",
     "text": [
      "45.0\n",
      "303\n",
      "BinomTestResult(k=45, n=303, alternative='greater', statistic=0.1485148514851485, pvalue=4.689471951448875e-05)\n",
      "This sample of 303 patients was drawn from a population that has fasting blood sugar levels significantly higher than 8%.\n"
     ]
    }
   ],
   "source": [
    "# Task 9 and Task 10\n",
    "# If this sample (303) came from a population with 8% diabetes,\n",
    "# 24 patients should show fasting blood sugar levels of >120.\n",
    "# THAT IS, if fbs levels >120 can be understood as having diabetes.\n",
    "# This sample has 45 people or 14.85% that are >120.\n",
    "\n",
    "# from scipy.stats import binom_test # fsb column has 0,1.\n",
    "# pval = binom_test(num_highfbs_patients, num_patients, .08, alternative='greater')\n",
    "\n",
    "# DeprecationWarning: 'binom_test'. Rewriting with 'binomtest'.\n",
    "from scipy.stats import binomtest # fsb column has 0,1.\n",
    "pval = binomtest(int(num_highfbs_patients), num_patients, .08, alternative='greater')\n",
    "\n",
    "print(num_highfbs_patients) # Just checking numbers\n",
    "print(num_patients) # Just checking numbers\n",
    "print(pval) # 4.689 e-05\n",
    "# Probability that this sample of 303 patients (num_patients) \n",
    "# DOES NOT COME from a sample with 8% or more people having diabetes \n",
    "# is close to zero. \n",
    "# 4.689 e-5 < 0.05 --> (significantly) lower.\n",
    "# Significantly greater than 8%.\n",
    "print(\"This sample of 303 patients was drawn from a population that has fasting blood sugar levels significantly higher than 8%.\")"
   ]
  }
 ],
 "metadata": {
  "kernelspec": {
   "display_name": "Python 3",
   "language": "python",
   "name": "python3"
  },
  "language_info": {
   "codemirror_mode": {
    "name": "ipython",
    "version": 3
   },
   "file_extension": ".py",
   "mimetype": "text/x-python",
   "name": "python",
   "nbconvert_exporter": "python",
   "pygments_lexer": "ipython3",
   "version": "3.10.11"
  }
 },
 "nbformat": 4,
 "nbformat_minor": 2
}
